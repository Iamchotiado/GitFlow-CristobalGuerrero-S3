{
 "cells": [
  {
   "cell_type": "code",
   "execution_count": 1,
   "id": "85f901f3",
   "metadata": {},
   "outputs": [],
   "source": [
    "import json\n",
    "\n",
    "array=[]\n",
    "with open('farmers-protest-tweets-2021-03-5.json') as archivo:\n",
    "    for linea in archivo:\n",
    "        array.append(json.loads(linea))"
   ]
  },
  {
   "cell_type": "markdown",
   "id": "1bd4f2bb",
   "metadata": {},
   "source": [
    "##### Creamos la primera funcion, Los top 10 tweets mas retweeted."
   ]
  },
  {
   "cell_type": "code",
   "execution_count": 3,
   "id": "abea359d",
   "metadata": {},
   "outputs": [
    {
     "name": "stdout",
     "output_type": "stream",
     "text": [
      "Top 10: tweets con mas retweet:\n",
      "\n",
      "\n",
      "10) (15677) To all of my influencer/celeb friends- read up on this   #FarmersProtest 👀\n",
      "\n",
      "9) (17368) Should be talking about this! #FarmersProtest\n",
      "\n",
      "https://t.co/Xh09iTvVoF\n",
      "\n",
      "8) (18744) Farmers feed the world. Fight for them. Protect them #FarmersProtest\n",
      "\n",
      "7) (20132) There has been much social media coverage around the #FarmersProtest in #India. Very useful guide to the legislation and the impact on farmers. 1/2 https://t.co/3CsdgBebdZ\n",
      "\n",
      "6) (23251) Happy to share that I’ve donated $10,000 to provide medical assistance to the farmers in need in India to help save lives during these times. I hope we can prevent any additional life from being lost. 🙏🏾 #FarmersProtest https://t.co/0WoEw0l3ij\n",
      "\n",
      "5) (26972) What in the human rights violations is going on?! They cut the internet around New Delhi?! #FarmersProtest https://t.co/a5ml1P2ikU\n",
      "\n",
      "4) (35921) “Paid actors,” huh? Quite the casting director, I hope they’re not overlooked during awards season. I stand with the farmers. #FarmersProtest https://t.co/moONj03tN0\n",
      "\n",
      "3) (67694) I still #StandWithFarmers and support their peaceful protest.\n",
      "No amount of hate, threats or violations of human rights will ever change that. #FarmersProtest\n",
      "\n",
      "2) (103957) We stand in solidarity with the #FarmersProtest in India.\n",
      " https://t.co/tqvR0oHgo0\n",
      "\n",
      "1) (315547) why aren’t we talking about this?! #FarmersProtest https://t.co/obmIlXhK9S\n",
      "\n"
     ]
    }
   ],
   "source": [
    "# print(array[0]['retweetCount'])\n",
    "def top_retweets(tweets):\n",
    "    print(\"Top 10: tweets con mas retweet:\\n\\n\")\n",
    "    tt = []\n",
    "    for tweet in tweets:\n",
    "        retweet_count = [tweet['retweetCount'], tweet['content']]\n",
    "        tt.append(retweet_count)\n",
    "\n",
    "    tt.sort(reverse=True)\n",
    "\n",
    "    i = 9\n",
    "    while i >= 0:\n",
    "        print(str(i + 1) + \")\", \"(\" + str(tt[i][0]) + \")\", tt[i][1] +\"\\n\")\n",
    "        i-=1\n",
    "\n",
    "top_retweets(array)"
   ]
  },
  {
   "cell_type": "code",
   "execution_count": null,
   "id": "fb90d668",
   "metadata": {},
   "outputs": [],
   "source": []
  }
 ],
 "metadata": {
  "kernelspec": {
   "display_name": "Python 3",
   "language": "python",
   "name": "python3"
  },
  "language_info": {
   "codemirror_mode": {
    "name": "ipython",
    "version": 3
   },
   "file_extension": ".py",
   "mimetype": "text/x-python",
   "name": "python",
   "nbconvert_exporter": "python",
   "pygments_lexer": "ipython3",
   "version": "3.8.10"
  }
 },
 "nbformat": 4,
 "nbformat_minor": 5
}
