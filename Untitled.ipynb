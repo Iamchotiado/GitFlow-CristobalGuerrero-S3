{
 "cells": [
  {
   "cell_type": "code",
   "execution_count": 2,
   "id": "85f901f3",
   "metadata": {},
   "outputs": [],
   "source": [
    "import json\n",
    "\n",
    "array=[]\n",
    "with open('farmers-protest-tweets-2021-03-5.json') as archivo:\n",
    "    for linea in archivo:\n",
    "        array.append(json.loads(linea))"
   ]
  },
  {
   "cell_type": "markdown",
   "id": "1bd4f2bb",
   "metadata": {},
   "source": [
    "##### Creamos la primera funcion, Los top 10 tweets mas retweeted."
   ]
  },
  {
   "cell_type": "code",
   "execution_count": 3,
   "id": "abea359d",
   "metadata": {},
   "outputs": [
    {
     "name": "stdout",
     "output_type": "stream",
     "text": [
      "Top 10: tweets con mas retweet:\n",
      "\n",
      "\n",
      "10) (15677) To all of my influencer/celeb friends- read up on this   #FarmersProtest 👀\n",
      "\n",
      "9) (17368) Should be talking about this! #FarmersProtest\n",
      "\n",
      "https://t.co/Xh09iTvVoF\n",
      "\n",
      "8) (18744) Farmers feed the world. Fight for them. Protect them #FarmersProtest\n",
      "\n",
      "7) (20132) There has been much social media coverage around the #FarmersProtest in #India. Very useful guide to the legislation and the impact on farmers. 1/2 https://t.co/3CsdgBebdZ\n",
      "\n",
      "6) (23251) Happy to share that I’ve donated $10,000 to provide medical assistance to the farmers in need in India to help save lives during these times. I hope we can prevent any additional life from being lost. 🙏🏾 #FarmersProtest https://t.co/0WoEw0l3ij\n",
      "\n",
      "5) (26972) What in the human rights violations is going on?! They cut the internet around New Delhi?! #FarmersProtest https://t.co/a5ml1P2ikU\n",
      "\n",
      "4) (35921) “Paid actors,” huh? Quite the casting director, I hope they’re not overlooked during awards season. I stand with the farmers. #FarmersProtest https://t.co/moONj03tN0\n",
      "\n",
      "3) (67694) I still #StandWithFarmers and support their peaceful protest.\n",
      "No amount of hate, threats or violations of human rights will ever change that. #FarmersProtest\n",
      "\n",
      "2) (103957) We stand in solidarity with the #FarmersProtest in India.\n",
      " https://t.co/tqvR0oHgo0\n",
      "\n",
      "1) (315547) why aren’t we talking about this?! #FarmersProtest https://t.co/obmIlXhK9S\n",
      "\n"
     ]
    }
   ],
   "source": [
    "# print(array[0]['retweetCount'])\n",
    "def top_retweets(tweets):\n",
    "    print(\"Top 10: tweets con mas retweet:\\n\\n\")\n",
    "    tt = []\n",
    "    for tweet in tweets:\n",
    "        retweet_count = [tweet['retweetCount'], tweet['content']]\n",
    "        tt.append(retweet_count)\n",
    "\n",
    "    tt.sort(reverse=True)\n",
    "\n",
    "    i = 9\n",
    "    while i >= 0:\n",
    "        print(str(i + 1) + \")\", \"(\" + str(tt[i][0]) + \")\", tt[i][1] +\"\\n\")\n",
    "        i-=1\n",
    "\n",
    "top_retweets(array)"
   ]
  },
  {
   "cell_type": "markdown",
   "id": "f6d3fcc6",
   "metadata": {},
   "source": [
    "##### Creamos la segunda funcion, Los top 10 usuarios con mayor cantidad de tweets."
   ]
  },
  {
   "cell_type": "code",
   "execution_count": 4,
   "id": "fb90d668",
   "metadata": {},
   "outputs": [
    {
     "name": "stdout",
     "output_type": "stream",
     "text": [
      "Top 10: usuarios con mayor cantidad de tweets:\n",
      "\n",
      "\n",
      "10) (1446) z_khalique007\n",
      "\n",
      "9) (1453) DigitalKisanBot\n",
      "\n",
      "8) (1460) Jass_k_G\n",
      "\n",
      "7) (1502) Iamjazzie96\n",
      "\n",
      "6) (1722) rumsomal\n",
      "\n",
      "5) (1806) rebelpacifist\n",
      "\n",
      "4) (1841) jot__b\n",
      "\n",
      "3) (1991) shells_n_petals\n",
      "\n",
      "2) (2091) tasveersandhu\n",
      "\n",
      "1) (7134) harjot_tweeting\n",
      "\n"
     ]
    }
   ],
   "source": [
    "from collections import Counter\n",
    "def cantidad_tweets(tweets):\n",
    "    print(\"Top 10: usuarios con mayor cantidad de tweets:\\n\\n\")\n",
    "    tt = []\n",
    "    cantidad = []\n",
    "    usuarios = []\n",
    "    contador = Counter(tw['user']['username'] for tw in array)\n",
    "\n",
    "\n",
    "\n",
    "    for value in contador.values():\n",
    "        cantidad.append(value)\n",
    "    for value in contador.keys():\n",
    "        usuarios.append(value)\n",
    "\n",
    "    for i in range(0, len(usuarios)):\n",
    "        user = [cantidad[i], usuarios[i]]\n",
    "        tt.append(user)\n",
    "\n",
    "    tt.sort(reverse=True)\n",
    "    i = 9\n",
    "    while i >= 0:\n",
    "        print(str(i + 1) + \")\", \"(\" + str(tt[i][0]) + \")\", tt[i][1] +\"\\n\")\n",
    "        i-=1\n",
    "cantidad_tweets(array)"
   ]
  },
  {
   "cell_type": "markdown",
   "id": "64ce237d",
   "metadata": {},
   "source": [
    "##### Creamos la tercera funcion, Los top 10 dias con mayor cantidad de tweets."
   ]
  },
  {
   "cell_type": "code",
   "execution_count": 12,
   "id": "ddac3c3b",
   "metadata": {},
   "outputs": [
    {
     "name": "stdout",
     "output_type": "stream",
     "text": [
      "Top 10: dias con mayor cantidad de tweets:\n",
      "\n",
      "\n",
      "10) (5698) 2021-02-11\n",
      "\n",
      "9) (7973) 2021-02-10\n",
      "\n",
      "8) (8920) 2021-02-08\n",
      "\n",
      "7) (9320) 2021-02-09\n",
      "\n",
      "6) (11325) 2021-02-07\n",
      "\n",
      "5) (22420) 2021-02-06\n",
      "\n",
      "4) (28548) 2021-02-02\n",
      "\n",
      "3) (33332) 2021-02-05\n",
      "\n",
      "2) (58607) 2021-02-04\n",
      "\n",
      "1) (83866) 2021-02-03\n",
      "\n"
     ]
    }
   ],
   "source": [
    "\n",
    "def dias_mas_tweets(tweets):\n",
    "    print(\"Top 10: dias con mayor cantidad de tweets:\\n\\n\")\n",
    "    tt = []\n",
    "    cantidad = []\n",
    "    dias = []\n",
    "    for tweet in tweets:\n",
    "        tweet['date'] = tweet['date'].partition(\"T\")[0]\n",
    "    contador = Counter(tw['date'] for tw in array)\n",
    "\n",
    "\n",
    "\n",
    "    for value in contador.values():\n",
    "        cantidad.append(value)\n",
    "    for value in contador.keys():\n",
    "        dias.append(value)\n",
    "\n",
    "    for i in range(0, len(dias)):\n",
    "        day = [cantidad[i], dias[i]]\n",
    "        tt.append(day)\n",
    "\n",
    "    tt.sort(reverse=True)\n",
    "    i = 9\n",
    "    while i >= 0:\n",
    "        print(str(i + 1) + \")\", \"(\" + str(tt[i][0]) + \")\", tt[i][1] +\"\\n\")\n",
    "        i-=1\n",
    "dias_mas_tweets(array)"
   ]
  }
 ],
 "metadata": {
  "kernelspec": {
   "display_name": "Python 3",
   "language": "python",
   "name": "python3"
  },
  "language_info": {
   "codemirror_mode": {
    "name": "ipython",
    "version": 3
   },
   "file_extension": ".py",
   "mimetype": "text/x-python",
   "name": "python",
   "nbconvert_exporter": "python",
   "pygments_lexer": "ipython3",
   "version": "3.8.10"
  }
 },
 "nbformat": 4,
 "nbformat_minor": 5
}
